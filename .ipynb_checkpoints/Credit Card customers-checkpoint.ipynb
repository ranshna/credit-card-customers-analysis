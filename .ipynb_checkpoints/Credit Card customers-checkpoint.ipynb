{
 "cells": [
  {
   "cell_type": "markdown",
   "id": "511038ae-ae65-42ea-ae61-eb2b6bbfb0ca",
   "metadata": {},
   "source": [
    "# Anlyzing credit card Customers \n",
    "## Intro\n",
    "A manager at the bank is disturbed with more and more customers leaving their credit card services.  \n",
    "They would really appreciate it if one could Tell what is common or define the Leaving customers.  \n",
    "This dataset consists of 10,000 customers mentioning their age, salary, marital_status, credit card limit, credit card category, etc. There are nearly 18 features.  \n",
    "let's check this data and find out what are the patterns of customers who have left."
   ]
  },
  {
   "cell_type": "code",
   "execution_count": 1,
   "id": "fc938c48-29c6-4a9e-943c-8baf0c58a3b5",
   "metadata": {},
   "outputs": [],
   "source": [
    "import pandas as pd\n",
    "import numpy as np\n",
    "import matplotlib.pyplot as plt"
   ]
  },
  {
   "cell_type": "markdown",
   "id": "7ea12cc4-d672-4832-8d1c-7aae6b2cf514",
   "metadata": {
    "tags": []
   },
   "source": [
    "#### Loading the BankChurners.csv as pandas data frame"
   ]
  },
  {
   "cell_type": "code",
   "execution_count": 2,
   "id": "c3826586-54dd-43ea-a471-89e57c585376",
   "metadata": {
    "tags": []
   },
   "outputs": [],
   "source": [
    "data = pd.read_csv(r'C:\\Users\\rans\\Desktop\\Ran\\credit card customers analysis\\BankChurners.csv')"
   ]
  },
  {
   "cell_type": "code",
   "execution_count": 3,
   "id": "aa4a2534-df5d-4d17-8c65-23c032ccb9c7",
   "metadata": {},
   "outputs": [
    {
     "data": {
      "text/html": [
       "<div>\n",
       "<style scoped>\n",
       "    .dataframe tbody tr th:only-of-type {\n",
       "        vertical-align: middle;\n",
       "    }\n",
       "\n",
       "    .dataframe tbody tr th {\n",
       "        vertical-align: top;\n",
       "    }\n",
       "\n",
       "    .dataframe thead th {\n",
       "        text-align: right;\n",
       "    }\n",
       "</style>\n",
       "<table border=\"1\" class=\"dataframe\">\n",
       "  <thead>\n",
       "    <tr style=\"text-align: right;\">\n",
       "      <th></th>\n",
       "      <th>CLIENTNUM</th>\n",
       "      <th>Attrition_Flag</th>\n",
       "      <th>Customer_Age</th>\n",
       "      <th>Gender</th>\n",
       "      <th>Dependent_count</th>\n",
       "      <th>Education_Level</th>\n",
       "      <th>Marital_Status</th>\n",
       "      <th>Income_Category</th>\n",
       "      <th>Card_Category</th>\n",
       "      <th>Months_on_book</th>\n",
       "      <th>...</th>\n",
       "      <th>Credit_Limit</th>\n",
       "      <th>Total_Revolving_Bal</th>\n",
       "      <th>Avg_Open_To_Buy</th>\n",
       "      <th>Total_Amt_Chng_Q4_Q1</th>\n",
       "      <th>Total_Trans_Amt</th>\n",
       "      <th>Total_Trans_Ct</th>\n",
       "      <th>Total_Ct_Chng_Q4_Q1</th>\n",
       "      <th>Avg_Utilization_Ratio</th>\n",
       "      <th>Naive_Bayes_Classifier_Attrition_Flag_Card_Category_Contacts_Count_12_mon_Dependent_count_Education_Level_Months_Inactive_12_mon_1</th>\n",
       "      <th>Naive_Bayes_Classifier_Attrition_Flag_Card_Category_Contacts_Count_12_mon_Dependent_count_Education_Level_Months_Inactive_12_mon_2</th>\n",
       "    </tr>\n",
       "  </thead>\n",
       "  <tbody>\n",
       "    <tr>\n",
       "      <th>0</th>\n",
       "      <td>768805383</td>\n",
       "      <td>Existing Customer</td>\n",
       "      <td>45</td>\n",
       "      <td>M</td>\n",
       "      <td>3</td>\n",
       "      <td>High School</td>\n",
       "      <td>Married</td>\n",
       "      <td>$60K - $80K</td>\n",
       "      <td>Blue</td>\n",
       "      <td>39</td>\n",
       "      <td>...</td>\n",
       "      <td>12691.0</td>\n",
       "      <td>777</td>\n",
       "      <td>11914.0</td>\n",
       "      <td>1.335</td>\n",
       "      <td>1144</td>\n",
       "      <td>42</td>\n",
       "      <td>1.625</td>\n",
       "      <td>0.061</td>\n",
       "      <td>0.000093</td>\n",
       "      <td>0.99991</td>\n",
       "    </tr>\n",
       "    <tr>\n",
       "      <th>1</th>\n",
       "      <td>818770008</td>\n",
       "      <td>Existing Customer</td>\n",
       "      <td>49</td>\n",
       "      <td>F</td>\n",
       "      <td>5</td>\n",
       "      <td>Graduate</td>\n",
       "      <td>Single</td>\n",
       "      <td>Less than $40K</td>\n",
       "      <td>Blue</td>\n",
       "      <td>44</td>\n",
       "      <td>...</td>\n",
       "      <td>8256.0</td>\n",
       "      <td>864</td>\n",
       "      <td>7392.0</td>\n",
       "      <td>1.541</td>\n",
       "      <td>1291</td>\n",
       "      <td>33</td>\n",
       "      <td>3.714</td>\n",
       "      <td>0.105</td>\n",
       "      <td>0.000057</td>\n",
       "      <td>0.99994</td>\n",
       "    </tr>\n",
       "    <tr>\n",
       "      <th>2</th>\n",
       "      <td>713982108</td>\n",
       "      <td>Existing Customer</td>\n",
       "      <td>51</td>\n",
       "      <td>M</td>\n",
       "      <td>3</td>\n",
       "      <td>Graduate</td>\n",
       "      <td>Married</td>\n",
       "      <td>$80K - $120K</td>\n",
       "      <td>Blue</td>\n",
       "      <td>36</td>\n",
       "      <td>...</td>\n",
       "      <td>3418.0</td>\n",
       "      <td>0</td>\n",
       "      <td>3418.0</td>\n",
       "      <td>2.594</td>\n",
       "      <td>1887</td>\n",
       "      <td>20</td>\n",
       "      <td>2.333</td>\n",
       "      <td>0.000</td>\n",
       "      <td>0.000021</td>\n",
       "      <td>0.99998</td>\n",
       "    </tr>\n",
       "    <tr>\n",
       "      <th>3</th>\n",
       "      <td>769911858</td>\n",
       "      <td>Existing Customer</td>\n",
       "      <td>40</td>\n",
       "      <td>F</td>\n",
       "      <td>4</td>\n",
       "      <td>High School</td>\n",
       "      <td>Unknown</td>\n",
       "      <td>Less than $40K</td>\n",
       "      <td>Blue</td>\n",
       "      <td>34</td>\n",
       "      <td>...</td>\n",
       "      <td>3313.0</td>\n",
       "      <td>2517</td>\n",
       "      <td>796.0</td>\n",
       "      <td>1.405</td>\n",
       "      <td>1171</td>\n",
       "      <td>20</td>\n",
       "      <td>2.333</td>\n",
       "      <td>0.760</td>\n",
       "      <td>0.000134</td>\n",
       "      <td>0.99987</td>\n",
       "    </tr>\n",
       "    <tr>\n",
       "      <th>4</th>\n",
       "      <td>709106358</td>\n",
       "      <td>Existing Customer</td>\n",
       "      <td>40</td>\n",
       "      <td>M</td>\n",
       "      <td>3</td>\n",
       "      <td>Uneducated</td>\n",
       "      <td>Married</td>\n",
       "      <td>$60K - $80K</td>\n",
       "      <td>Blue</td>\n",
       "      <td>21</td>\n",
       "      <td>...</td>\n",
       "      <td>4716.0</td>\n",
       "      <td>0</td>\n",
       "      <td>4716.0</td>\n",
       "      <td>2.175</td>\n",
       "      <td>816</td>\n",
       "      <td>28</td>\n",
       "      <td>2.500</td>\n",
       "      <td>0.000</td>\n",
       "      <td>0.000022</td>\n",
       "      <td>0.99998</td>\n",
       "    </tr>\n",
       "  </tbody>\n",
       "</table>\n",
       "<p>5 rows × 23 columns</p>\n",
       "</div>"
      ],
      "text/plain": [
       "   CLIENTNUM     Attrition_Flag  Customer_Age Gender  Dependent_count  \\\n",
       "0  768805383  Existing Customer            45      M                3   \n",
       "1  818770008  Existing Customer            49      F                5   \n",
       "2  713982108  Existing Customer            51      M                3   \n",
       "3  769911858  Existing Customer            40      F                4   \n",
       "4  709106358  Existing Customer            40      M                3   \n",
       "\n",
       "  Education_Level Marital_Status Income_Category Card_Category  \\\n",
       "0     High School        Married     $60K - $80K          Blue   \n",
       "1        Graduate         Single  Less than $40K          Blue   \n",
       "2        Graduate        Married    $80K - $120K          Blue   \n",
       "3     High School        Unknown  Less than $40K          Blue   \n",
       "4      Uneducated        Married     $60K - $80K          Blue   \n",
       "\n",
       "   Months_on_book  ...  Credit_Limit  Total_Revolving_Bal  Avg_Open_To_Buy  \\\n",
       "0              39  ...       12691.0                  777          11914.0   \n",
       "1              44  ...        8256.0                  864           7392.0   \n",
       "2              36  ...        3418.0                    0           3418.0   \n",
       "3              34  ...        3313.0                 2517            796.0   \n",
       "4              21  ...        4716.0                    0           4716.0   \n",
       "\n",
       "   Total_Amt_Chng_Q4_Q1  Total_Trans_Amt  Total_Trans_Ct  Total_Ct_Chng_Q4_Q1  \\\n",
       "0                 1.335             1144              42                1.625   \n",
       "1                 1.541             1291              33                3.714   \n",
       "2                 2.594             1887              20                2.333   \n",
       "3                 1.405             1171              20                2.333   \n",
       "4                 2.175              816              28                2.500   \n",
       "\n",
       "   Avg_Utilization_Ratio  \\\n",
       "0                  0.061   \n",
       "1                  0.105   \n",
       "2                  0.000   \n",
       "3                  0.760   \n",
       "4                  0.000   \n",
       "\n",
       "   Naive_Bayes_Classifier_Attrition_Flag_Card_Category_Contacts_Count_12_mon_Dependent_count_Education_Level_Months_Inactive_12_mon_1  \\\n",
       "0                                           0.000093                                                                                    \n",
       "1                                           0.000057                                                                                    \n",
       "2                                           0.000021                                                                                    \n",
       "3                                           0.000134                                                                                    \n",
       "4                                           0.000022                                                                                    \n",
       "\n",
       "   Naive_Bayes_Classifier_Attrition_Flag_Card_Category_Contacts_Count_12_mon_Dependent_count_Education_Level_Months_Inactive_12_mon_2  \n",
       "0                                            0.99991                                                                                   \n",
       "1                                            0.99994                                                                                   \n",
       "2                                            0.99998                                                                                   \n",
       "3                                            0.99987                                                                                   \n",
       "4                                            0.99998                                                                                   \n",
       "\n",
       "[5 rows x 23 columns]"
      ]
     },
     "execution_count": 3,
     "metadata": {},
     "output_type": "execute_result"
    }
   ],
   "source": [
    "data.head()"
   ]
  },
  {
   "cell_type": "markdown",
   "id": "695945bf-f320-4e86-8b69-6b7c020ad39d",
   "metadata": {},
   "source": [
    "#### Removing not relevant columns"
   ]
  },
  {
   "cell_type": "code",
   "execution_count": 4,
   "id": "82a96b11-8817-41ef-ba95-f377e7897ca8",
   "metadata": {},
   "outputs": [],
   "source": [
    "new_data = data.copy()[['CLIENTNUM','Attrition_Flag','Customer_Age','Gender','Education_Level','Marital_Status','Income_Category','Card_Category']]"
   ]
  },
  {
   "cell_type": "markdown",
   "id": "9e6ae044-5a8b-4776-8d5e-7a62d0eda3d6",
   "metadata": {},
   "source": [
    "#### Data overview"
   ]
  },
  {
   "cell_type": "code",
   "execution_count": 5,
   "id": "215dca70-ca14-4f1e-bfe1-22346dd8247e",
   "metadata": {},
   "outputs": [
    {
     "name": "stdout",
     "output_type": "stream",
     "text": [
      "<class 'pandas.core.frame.DataFrame'>\n",
      "RangeIndex: 10127 entries, 0 to 10126\n",
      "Data columns (total 8 columns):\n",
      " #   Column           Non-Null Count  Dtype \n",
      "---  ------           --------------  ----- \n",
      " 0   CLIENTNUM        10127 non-null  int64 \n",
      " 1   Attrition_Flag   10127 non-null  object\n",
      " 2   Customer_Age     10127 non-null  int64 \n",
      " 3   Gender           10127 non-null  object\n",
      " 4   Education_Level  10127 non-null  object\n",
      " 5   Marital_Status   10127 non-null  object\n",
      " 6   Income_Category  10127 non-null  object\n",
      " 7   Card_Category    10127 non-null  object\n",
      "dtypes: int64(2), object(6)\n",
      "memory usage: 633.1+ KB\n"
     ]
    }
   ],
   "source": [
    "new_data.info()"
   ]
  },
  {
   "cell_type": "code",
   "execution_count": 6,
   "id": "1b3bff9d-5220-4110-a5f7-6170eacd13f0",
   "metadata": {},
   "outputs": [
    {
     "data": {
      "text/html": [
       "<div>\n",
       "<style scoped>\n",
       "    .dataframe tbody tr th:only-of-type {\n",
       "        vertical-align: middle;\n",
       "    }\n",
       "\n",
       "    .dataframe tbody tr th {\n",
       "        vertical-align: top;\n",
       "    }\n",
       "\n",
       "    .dataframe thead th {\n",
       "        text-align: right;\n",
       "    }\n",
       "</style>\n",
       "<table border=\"1\" class=\"dataframe\">\n",
       "  <thead>\n",
       "    <tr style=\"text-align: right;\">\n",
       "      <th></th>\n",
       "      <th>CLIENTNUM</th>\n",
       "      <th>Customer_Age</th>\n",
       "    </tr>\n",
       "  </thead>\n",
       "  <tbody>\n",
       "    <tr>\n",
       "      <th>count</th>\n",
       "      <td>1.012700e+04</td>\n",
       "      <td>10127.000000</td>\n",
       "    </tr>\n",
       "    <tr>\n",
       "      <th>mean</th>\n",
       "      <td>7.391776e+08</td>\n",
       "      <td>46.325960</td>\n",
       "    </tr>\n",
       "    <tr>\n",
       "      <th>std</th>\n",
       "      <td>3.690378e+07</td>\n",
       "      <td>8.016814</td>\n",
       "    </tr>\n",
       "    <tr>\n",
       "      <th>min</th>\n",
       "      <td>7.080821e+08</td>\n",
       "      <td>26.000000</td>\n",
       "    </tr>\n",
       "    <tr>\n",
       "      <th>25%</th>\n",
       "      <td>7.130368e+08</td>\n",
       "      <td>41.000000</td>\n",
       "    </tr>\n",
       "    <tr>\n",
       "      <th>50%</th>\n",
       "      <td>7.179264e+08</td>\n",
       "      <td>46.000000</td>\n",
       "    </tr>\n",
       "    <tr>\n",
       "      <th>75%</th>\n",
       "      <td>7.731435e+08</td>\n",
       "      <td>52.000000</td>\n",
       "    </tr>\n",
       "    <tr>\n",
       "      <th>max</th>\n",
       "      <td>8.283431e+08</td>\n",
       "      <td>73.000000</td>\n",
       "    </tr>\n",
       "  </tbody>\n",
       "</table>\n",
       "</div>"
      ],
      "text/plain": [
       "          CLIENTNUM  Customer_Age\n",
       "count  1.012700e+04  10127.000000\n",
       "mean   7.391776e+08     46.325960\n",
       "std    3.690378e+07      8.016814\n",
       "min    7.080821e+08     26.000000\n",
       "25%    7.130368e+08     41.000000\n",
       "50%    7.179264e+08     46.000000\n",
       "75%    7.731435e+08     52.000000\n",
       "max    8.283431e+08     73.000000"
      ]
     },
     "execution_count": 6,
     "metadata": {},
     "output_type": "execute_result"
    }
   ],
   "source": [
    "new_data.describe()"
   ]
  },
  {
   "cell_type": "markdown",
   "id": "984c20d2-5ed1-479e-be23-3bea659c5bdb",
   "metadata": {},
   "source": [
    "#### Adding binary value column for left costumers"
   ]
  },
  {
   "cell_type": "code",
   "execution_count": 7,
   "id": "016cd794-c0e8-4a8a-b4f8-6c402511d0bc",
   "metadata": {},
   "outputs": [],
   "source": [
    "new_data['haveleft']= np.where(new_data['Attrition_Flag']=='Attrited Customer',1,0)"
   ]
  },
  {
   "cell_type": "markdown",
   "id": "69b3117e-56d7-463c-9392-713f944d0707",
   "metadata": {},
   "source": [
    "##### Checking what percentage of our customers have left"
   ]
  },
  {
   "cell_type": "code",
   "execution_count": 8,
   "id": "892028fb-eab1-450d-b999-736745558752",
   "metadata": {},
   "outputs": [
    {
     "data": {
      "image/png": "[encoded data removed]",
      "text/plain": [
       "<Figure size 360x360 with 1 Axes>"
      ]
     },
     "metadata": {},
     "output_type": "display_data"
    }
   ],
   "source": [
    "count=pd.value_counts(new_data['Attrition_Flag']).tolist()\n",
    "plt.figure(figsize=(5,5))\n",
    "plt.title(\"Percentage of Attrited Customer and Existing Customer\")\n",
    "plt.pie(x=count,labels=[\"Existing Customers\",\"Attrited Customer\"],autopct='%.2f%%')\n",
    "plt.show()"
   ]
  },
  {
   "cell_type": "markdown",
   "id": "25197869-04ca-4d4f-b6e0-d2893985ae66",
   "metadata": {},
   "source": [
    "#### Histogram of age "
   ]
  },
  {
   "cell_type": "code",
   "execution_count": 9,
   "id": "7d362683-0940-49ff-9ad8-4dd852f2a5ed",
   "metadata": {},
   "outputs": [
    {
     "data": {
      "text/plain": [
       "array([[<AxesSubplot:title={'center':'Customer_Age'}>]], dtype=object)"
      ]
     },
     "execution_count": 9,
     "metadata": {},
     "output_type": "execute_result"
    },
    {
     "data": {
      "image/png": "[encoded data removed]",
      "text/plain": [
       "<Figure size 1080x504 with 1 Axes>"
      ]
     },
     "metadata": {
      "needs_background": "light"
     },
     "output_type": "display_data"
    }
   ],
   "source": [
    "new_data.hist('Customer_Age',figsize=(15,7),bins=47)"
   ]
  },
  {
   "cell_type": "markdown",
   "id": "4ebefb4b-538d-4410-9000-aae137ddad1a",
   "metadata": {},
   "source": [
    "The distribution of the age is Normal.  \n",
    "Now check if age is a factor in leaving.  \n",
    "by Getting the distribution of left customers by age."
   ]
  },
  {
   "cell_type": "code",
   "execution_count": 10,
   "id": "915655af-c2d3-47c2-b76e-1ec4a19a851f",
   "metadata": {},
   "outputs": [
    {
     "data": {
      "text/plain": [
       "<AxesSubplot:xlabel='Customer_Age'>"
      ]
     },
     "execution_count": 10,
     "metadata": {},
     "output_type": "execute_result"
    },
    {
     "data": {
      "image/png": "[encoded data removed]",
      "text/plain": [
       "<Figure size 1080x504 with 1 Axes>"
      ]
     },
     "metadata": {
      "needs_background": "light"
     },
     "output_type": "display_data"
    }
   ],
   "source": [
    "new_data.groupby(by=\"Customer_Age\")['haveleft'].sum().plot(kind='bar',figsize=(15,7))"
   ]
  },
  {
   "cell_type": "markdown",
   "id": "9b31af09-48bd-4e21-bef7-d4ad0f7733d6",
   "metadata": {},
   "source": [
    "We can conclude from the plot above that even customers who have left by age are normally distributed.  \n",
    "So age does not cause leaving"
   ]
  },
  {
   "cell_type": "markdown",
   "id": "9aff58fa-38b0-469f-a855-fd22ae3ae644",
   "metadata": {},
   "source": [
    "#### Getting leaving ratio by fields"
   ]
  },
  {
   "cell_type": "code",
   "execution_count": 11,
   "id": "1d1021ec-937e-4463-89e9-43f19b9eaffd",
   "metadata": {},
   "outputs": [
    {
     "name": "stdout",
     "output_type": "stream",
     "text": [
      "Attrition ratio by Education_Level\n",
      "  Education_Level  leave  total  ratio_by_value(%)  ratio_relative_to_ALL(%)\n",
      "0        Graduate    487   3128              15.57                      4.81\n",
      "1     High School    306   2013              15.20                      3.02\n",
      "2         Unknown    256   1519              16.85                      2.53\n",
      "3      Uneducated    237   1487              15.94                      2.34\n",
      "4         College    154   1013              15.20                      1.52\n",
      "5       Doctorate     95    451              21.06                      0.94\n",
      "6   Post-Graduate     92    516              17.83                      0.91 \n",
      "\n",
      "\n",
      "Attrition ratio by Gender\n",
      "  Gender  leave  total  ratio_by_value(%)  ratio_relative_to_ALL(%)\n",
      "0      F    930   5358              17.36                      9.18\n",
      "1      M    697   4769              14.62                      6.88 \n",
      "\n",
      "\n",
      "Attrition ratio by Marital_Status\n",
      "  Marital_Status  leave  total  ratio_by_value(%)  ratio_relative_to_ALL(%)\n",
      "0        Married    709   4687              15.13                      7.00\n",
      "1         Single    668   3943              16.94                      6.60\n",
      "2        Unknown    129    749              17.22                      1.27\n",
      "3       Divorced    121    748              16.18                      1.19 \n",
      "\n",
      "\n",
      "Attrition ratio by Income_Category\n",
      "  Income_Category  leave  total  ratio_by_value(%)  ratio_relative_to_ALL(%)\n",
      "0  Less than $40K    612   3561              17.19                      6.04\n",
      "1     $40K - $60K    271   1790              15.14                      2.68\n",
      "2    $80K - $120K    242   1535              15.77                      2.39\n",
      "3     $60K - $80K    189   1402              13.48                      1.87\n",
      "4         Unknown    187   1112              16.82                      1.85\n",
      "5         $120K +    126    727              17.33                      1.24 \n",
      "\n",
      "\n",
      "Attrition ratio by Card_Category\n",
      "  Card_Category  leave  total  ratio_by_value(%)  ratio_relative_to_ALL(%)\n",
      "0          Blue   1519   9436              16.10                     15.00\n",
      "1        Silver     82    555              14.77                      0.81\n",
      "2          Gold     21    116              18.10                      0.21\n",
      "3      Platinum      5     20              25.00                      0.05 \n",
      "\n",
      "\n"
     ]
    }
   ],
   "source": [
    "columns=['Education_Level','Gender','Marital_Status','Income_Category','Card_Category']\n",
    "for i in columns:\n",
    "    print(\"Attrition ratio by \"+str(i))\n",
    "    leftdata=new_data[i][new_data['haveleft']==1].value_counts().rename_axis(i).reset_index(name='leave')\n",
    "    totaldata=new_data[i].value_counts().rename_axis(i).reset_index(name='total')\n",
    "    merged=pd.merge(leftdata,totaldata,how='left')\n",
    "    merged['ratio_by_value(%)']=round((merged['leave']/merged['total'])*100,2)\n",
    "    merged['ratio_relative_to_ALL(%)']=round((merged['leave']/data['CLIENTNUM'].count())*100,2)\n",
    "    print(merged,'\\n'*2)\n",
    "    "
   ]
  },
  {
   "cell_type": "markdown",
   "id": "0e7a37af-8b5f-4a3f-a22c-faa6545a4616",
   "metadata": {},
   "source": [
    "By considering the combination of the leaving ratio by value with the relation of leaving ratio relative to all.  \n",
    "The main relevant field Is:  \n",
    "**Card Category: highest leaving ratio by value (38%)  and highest leaving ratio relative to all (22.4% from all the customers)**"
   ]
  },
  {
   "cell_type": "code",
   "execution_count": 12,
   "id": "ba54c9ff-437d-4241-9062-06d15277ade7",
   "metadata": {},
   "outputs": [
    {
     "name": "stdout",
     "output_type": "stream",
     "text": [
      "AxesSubplot(0.125,0.125;0.775x0.755)\n"
     ]
    },
    {
     "data": {
      "image/png": "[encoded data removed]",
      "text/plain": [
       "<Figure size 1080x504 with 1 Axes>"
      ]
     },
     "metadata": {
      "needs_background": "light"
     },
     "output_type": "display_data"
    }
   ],
   "source": [
    "total=new_data['Card_Category'].value_counts().rename_axis('Card_Category').reset_index(name='total')\n",
    "lefted=new_data['Card_Category'][new_data['haveleft']==1].value_counts().rename_axis('Card_Category').reset_index(name='have left')\n",
    "merged=pd.merge(total,lefted,how='left').plot.barh(x='Card_Category',figsize=(15,7))\n",
    "print(merged)"
   ]
  },
  {
   "cell_type": "markdown",
   "id": "d968df0b-dd86-4c11-a895-6fc04bba6bf5",
   "metadata": {},
   "source": [
    "##### Filtering the customers who related to the relevant Card_Category (Blue) "
   ]
  },
  {
   "cell_type": "code",
   "execution_count": 13,
   "id": "98542f04-7169-4f40-a426-45b4569f4c31",
   "metadata": {},
   "outputs": [],
   "source": [
    "filterdata = new_data[new_data['Card_Category']== 'Blue']"
   ]
  },
  {
   "cell_type": "markdown",
   "id": "def252ec-7bcb-4765-93fc-7f9dfb253f68",
   "metadata": {},
   "source": [
    "Now let's deep dive into those customers to get more details about them in order to find out where is the most leaving customers located"
   ]
  },
  {
   "cell_type": "code",
   "execution_count": 14,
   "id": "02457f7a-820f-4743-bc87-6aa6010c1092",
   "metadata": {},
   "outputs": [
    {
     "name": "stdout",
     "output_type": "stream",
     "text": [
      "value counts by Income_Category\n",
      "  Income_Category  total  leave  ratio_by_value(%)  ratio_relative_to_ALL(%)\n",
      "0  Less than $40K   3403    586              17.22                      5.79\n",
      "1     $40K - $60K   1675    257              15.34                      2.54\n",
      "2    $80K - $120K   1395    215              15.41                      2.12\n",
      "3     $60K - $80K   1273    172              13.51                      1.70\n",
      "4         Unknown   1045    176              16.84                      1.74\n",
      "5         $120K +    645    113              17.52                      1.12 \n",
      "\n",
      "\n",
      "value counts by Education_Level\n",
      "  Education_Level  total  leave  ratio_by_value(%)  ratio_relative_to_ALL(%)\n",
      "0        Graduate   2899    450              15.52                      4.44\n",
      "1     High School   1888    287              15.20                      2.83\n",
      "2         Unknown   1420    243              17.11                      2.40\n",
      "3      Uneducated   1391    222              15.96                      2.19\n",
      "4         College    940    143              15.21                      1.41\n",
      "5   Post-Graduate    476     83              17.44                      0.82\n",
      "6       Doctorate    422     91              21.56                      0.90 \n",
      "\n",
      "\n",
      "value counts by Marital_Status\n",
      "  Marital_Status  total  leave  ratio_by_value(%)  ratio_relative_to_ALL(%)\n",
      "0        Married   4433    674              15.20                      6.66\n",
      "1         Single   3624    611              16.86                      6.03\n",
      "2       Divorced    696    114              16.38                      1.13\n",
      "3        Unknown    683    120              17.57                      1.18 \n",
      "\n",
      "\n",
      "value counts by Gender\n",
      "  Gender  total  leave  ratio_by_value(%)  ratio_relative_to_ALL(%)\n",
      "0      F   5101    890              17.45                      8.79\n",
      "1      M   4335    629              14.51                      6.21 \n",
      "\n",
      "\n"
     ]
    }
   ],
   "source": [
    "columns=['Income_Category','Education_Level','Marital_Status','Gender']\n",
    "for i in columns:   \n",
    "    print('value counts by '+i)\n",
    "    dftotal=filterdata[i].value_counts().rename_axis(i).reset_index(name='total')\n",
    "    dfleft=filterdata[i][filterdata['haveleft']==1].value_counts().rename_axis(i).reset_index(name='leave')\n",
    "    df=pd.merge(dftotal,dfleft,how='left')  \n",
    "    df['ratio_by_value(%)']=round((df['leave']/df['total'])*100,2)\n",
    "    df['ratio_relative_to_ALL(%)']=round((df['leave']/data['CLIENTNUM'].count())*100,2)\n",
    "    print(df,'\\n'*2)"
   ]
  },
  {
   "cell_type": "markdown",
   "id": "7f655d5c-4352-460c-90ff-38eaaa4fe210",
   "metadata": {},
   "source": [
    "First of all, we can infer that the material status of Married and Single customers have a really high leaving ratio related to the others so they should be filtered.  \n",
    "\n",
    "In order to know about any pattern of leaving customers, we have to be focused.  \n",
    "As we can see from the above there is a huge-range leaving ratio for the values.  \n",
    "We Have to define what is the limit of leaving ratio that might show us a pattern of leaving.\n",
    "By considering the results I decided to define the limit of 2%  leaving the ratio relative to all.  \n",
    "It means that any value from all the fields that have leaving ratio under 2% is not relevant.  \n",
    "So the next step is to filter the values that have leaving ratio above 2%."
   ]
  },
  {
   "cell_type": "code",
   "execution_count": 15,
   "id": "710ce4e0-1870-4b03-8ea4-2a1b7fff216b",
   "metadata": {},
   "outputs": [],
   "source": [
    "filtered2=filterdata[filterdata['Marital_Status'].isin(['Single','Married']) & filterdata['Education_Level'].isin(['Graduate','High School','Uneducated','College'])\n",
    "                    & filterdata['Income_Category'].isin(['Less than $40K','$40K - $60K','$80K - $120K'])]\n"
   ]
  },
  {
   "cell_type": "markdown",
   "id": "71b2cb4a-88d6-4b15-b529-6ae4abdcda5b",
   "metadata": {},
   "source": [
    "#### For getting specific values that can define leaving patterns for specific groups of values we have to group the data by Income Category, Education Level, and Gender."
   ]
  },
  {
   "cell_type": "code",
   "execution_count": 16,
   "id": "16b3ee4b-b285-45af-b2ca-d13e0e22dc3e",
   "metadata": {},
   "outputs": [
    {
     "data": {
      "text/html": [
       "<div>\n",
       "<style scoped>\n",
       "    .dataframe tbody tr th:only-of-type {\n",
       "        vertical-align: middle;\n",
       "    }\n",
       "\n",
       "    .dataframe tbody tr th {\n",
       "        vertical-align: top;\n",
       "    }\n",
       "\n",
       "    .dataframe thead th {\n",
       "        text-align: right;\n",
       "    }\n",
       "</style>\n",
       "<table border=\"1\" class=\"dataframe\">\n",
       "  <thead>\n",
       "    <tr style=\"text-align: right;\">\n",
       "      <th></th>\n",
       "      <th></th>\n",
       "      <th></th>\n",
       "      <th>Total_amount</th>\n",
       "      <th>leaving_amount</th>\n",
       "      <th>leaving_ratio_of_group(%)</th>\n",
       "      <th>leaving_ratio_relative_to_ALL(%)</th>\n",
       "    </tr>\n",
       "    <tr>\n",
       "      <th>Income_Category</th>\n",
       "      <th>Education_Level</th>\n",
       "      <th>Gender</th>\n",
       "      <th></th>\n",
       "      <th></th>\n",
       "      <th></th>\n",
       "      <th></th>\n",
       "    </tr>\n",
       "  </thead>\n",
       "  <tbody>\n",
       "    <tr>\n",
       "      <th rowspan=\"3\" valign=\"top\">Less than $40K</th>\n",
       "      <th>Graduate</th>\n",
       "      <th>F</th>\n",
       "      <td>849</td>\n",
       "      <td>159</td>\n",
       "      <td>18.73</td>\n",
       "      <td>1.57</td>\n",
       "    </tr>\n",
       "    <tr>\n",
       "      <th>High School</th>\n",
       "      <th>F</th>\n",
       "      <td>508</td>\n",
       "      <td>74</td>\n",
       "      <td>14.57</td>\n",
       "      <td>0.73</td>\n",
       "    </tr>\n",
       "    <tr>\n",
       "      <th>Uneducated</th>\n",
       "      <th>F</th>\n",
       "      <td>398</td>\n",
       "      <td>59</td>\n",
       "      <td>14.82</td>\n",
       "      <td>0.58</td>\n",
       "    </tr>\n",
       "    <tr>\n",
       "      <th>$80K - $120K</th>\n",
       "      <th>Graduate</th>\n",
       "      <th>M</th>\n",
       "      <td>373</td>\n",
       "      <td>50</td>\n",
       "      <td>13.40</td>\n",
       "      <td>0.49</td>\n",
       "    </tr>\n",
       "    <tr>\n",
       "      <th>Less than $40K</th>\n",
       "      <th>College</th>\n",
       "      <th>F</th>\n",
       "      <td>263</td>\n",
       "      <td>42</td>\n",
       "      <td>15.97</td>\n",
       "      <td>0.41</td>\n",
       "    </tr>\n",
       "    <tr>\n",
       "      <th rowspan=\"2\" valign=\"top\">$40K - $60K</th>\n",
       "      <th>Graduate</th>\n",
       "      <th>F</th>\n",
       "      <td>257</td>\n",
       "      <td>39</td>\n",
       "      <td>15.18</td>\n",
       "      <td>0.39</td>\n",
       "    </tr>\n",
       "    <tr>\n",
       "      <th>High School</th>\n",
       "      <th>F</th>\n",
       "      <td>168</td>\n",
       "      <td>32</td>\n",
       "      <td>19.05</td>\n",
       "      <td>0.32</td>\n",
       "    </tr>\n",
       "    <tr>\n",
       "      <th rowspan=\"3\" valign=\"top\">$80K - $120K</th>\n",
       "      <th>High School</th>\n",
       "      <th>M</th>\n",
       "      <td>234</td>\n",
       "      <td>29</td>\n",
       "      <td>12.39</td>\n",
       "      <td>0.29</td>\n",
       "    </tr>\n",
       "    <tr>\n",
       "      <th>Uneducated</th>\n",
       "      <th>M</th>\n",
       "      <td>164</td>\n",
       "      <td>28</td>\n",
       "      <td>17.07</td>\n",
       "      <td>0.28</td>\n",
       "    </tr>\n",
       "    <tr>\n",
       "      <th>College</th>\n",
       "      <th>M</th>\n",
       "      <td>131</td>\n",
       "      <td>27</td>\n",
       "      <td>20.61</td>\n",
       "      <td>0.27</td>\n",
       "    </tr>\n",
       "    <tr>\n",
       "      <th rowspan=\"5\" valign=\"top\">$40K - $60K</th>\n",
       "      <th>Graduate</th>\n",
       "      <th>M</th>\n",
       "      <td>182</td>\n",
       "      <td>21</td>\n",
       "      <td>11.54</td>\n",
       "      <td>0.21</td>\n",
       "    </tr>\n",
       "    <tr>\n",
       "      <th rowspan=\"2\" valign=\"top\">Uneducated</th>\n",
       "      <th>M</th>\n",
       "      <td>98</td>\n",
       "      <td>17</td>\n",
       "      <td>17.35</td>\n",
       "      <td>0.17</td>\n",
       "    </tr>\n",
       "    <tr>\n",
       "      <th>F</th>\n",
       "      <td>96</td>\n",
       "      <td>15</td>\n",
       "      <td>15.62</td>\n",
       "      <td>0.15</td>\n",
       "    </tr>\n",
       "    <tr>\n",
       "      <th>College</th>\n",
       "      <th>F</th>\n",
       "      <td>86</td>\n",
       "      <td>13</td>\n",
       "      <td>15.12</td>\n",
       "      <td>0.13</td>\n",
       "    </tr>\n",
       "    <tr>\n",
       "      <th>High School</th>\n",
       "      <th>M</th>\n",
       "      <td>126</td>\n",
       "      <td>11</td>\n",
       "      <td>8.73</td>\n",
       "      <td>0.11</td>\n",
       "    </tr>\n",
       "    <tr>\n",
       "      <th>Less than $40K</th>\n",
       "      <th>Graduate</th>\n",
       "      <th>M</th>\n",
       "      <td>78</td>\n",
       "      <td>7</td>\n",
       "      <td>8.97</td>\n",
       "      <td>0.07</td>\n",
       "    </tr>\n",
       "    <tr>\n",
       "      <th>$40K - $60K</th>\n",
       "      <th>College</th>\n",
       "      <th>M</th>\n",
       "      <td>53</td>\n",
       "      <td>6</td>\n",
       "      <td>11.32</td>\n",
       "      <td>0.06</td>\n",
       "    </tr>\n",
       "    <tr>\n",
       "      <th rowspan=\"3\" valign=\"top\">Less than $40K</th>\n",
       "      <th>High School</th>\n",
       "      <th>M</th>\n",
       "      <td>42</td>\n",
       "      <td>5</td>\n",
       "      <td>11.90</td>\n",
       "      <td>0.05</td>\n",
       "    </tr>\n",
       "    <tr>\n",
       "      <th>Uneducated</th>\n",
       "      <th>M</th>\n",
       "      <td>33</td>\n",
       "      <td>4</td>\n",
       "      <td>12.12</td>\n",
       "      <td>0.04</td>\n",
       "    </tr>\n",
       "    <tr>\n",
       "      <th>College</th>\n",
       "      <th>M</th>\n",
       "      <td>18</td>\n",
       "      <td>0</td>\n",
       "      <td>0.00</td>\n",
       "      <td>0.00</td>\n",
       "    </tr>\n",
       "  </tbody>\n",
       "</table>\n",
       "</div>"
      ],
      "text/plain": [
       "                                        Total_amount  leaving_amount  \\\n",
       "Income_Category Education_Level Gender                                 \n",
       "Less than $40K  Graduate        F                849             159   \n",
       "                High School     F                508              74   \n",
       "                Uneducated      F                398              59   \n",
       "$80K - $120K    Graduate        M                373              50   \n",
       "Less than $40K  College         F                263              42   \n",
       "$40K - $60K     Graduate        F                257              39   \n",
       "                High School     F                168              32   \n",
       "$80K - $120K    High School     M                234              29   \n",
       "                Uneducated      M                164              28   \n",
       "                College         M                131              27   \n",
       "$40K - $60K     Graduate        M                182              21   \n",
       "                Uneducated      M                 98              17   \n",
       "                                F                 96              15   \n",
       "                College         F                 86              13   \n",
       "                High School     M                126              11   \n",
       "Less than $40K  Graduate        M                 78               7   \n",
       "$40K - $60K     College         M                 53               6   \n",
       "Less than $40K  High School     M                 42               5   \n",
       "                Uneducated      M                 33               4   \n",
       "                College         M                 18               0   \n",
       "\n",
       "                                        leaving_ratio_of_group(%)  \\\n",
       "Income_Category Education_Level Gender                              \n",
       "Less than $40K  Graduate        F                           18.73   \n",
       "                High School     F                           14.57   \n",
       "                Uneducated      F                           14.82   \n",
       "$80K - $120K    Graduate        M                           13.40   \n",
       "Less than $40K  College         F                           15.97   \n",
       "$40K - $60K     Graduate        F                           15.18   \n",
       "                High School     F                           19.05   \n",
       "$80K - $120K    High School     M                           12.39   \n",
       "                Uneducated      M                           17.07   \n",
       "                College         M                           20.61   \n",
       "$40K - $60K     Graduate        M                           11.54   \n",
       "                Uneducated      M                           17.35   \n",
       "                                F                           15.62   \n",
       "                College         F                           15.12   \n",
       "                High School     M                            8.73   \n",
       "Less than $40K  Graduate        M                            8.97   \n",
       "$40K - $60K     College         M                           11.32   \n",
       "Less than $40K  High School     M                           11.90   \n",
       "                Uneducated      M                           12.12   \n",
       "                College         M                            0.00   \n",
       "\n",
       "                                        leaving_ratio_relative_to_ALL(%)  \n",
       "Income_Category Education_Level Gender                                    \n",
       "Less than $40K  Graduate        F                                   1.57  \n",
       "                High School     F                                   0.73  \n",
       "                Uneducated      F                                   0.58  \n",
       "$80K - $120K    Graduate        M                                   0.49  \n",
       "Less than $40K  College         F                                   0.41  \n",
       "$40K - $60K     Graduate        F                                   0.39  \n",
       "                High School     F                                   0.32  \n",
       "$80K - $120K    High School     M                                   0.29  \n",
       "                Uneducated      M                                   0.28  \n",
       "                College         M                                   0.27  \n",
       "$40K - $60K     Graduate        M                                   0.21  \n",
       "                Uneducated      M                                   0.17  \n",
       "                                F                                   0.15  \n",
       "                College         F                                   0.13  \n",
       "                High School     M                                   0.11  \n",
       "Less than $40K  Graduate        M                                   0.07  \n",
       "$40K - $60K     College         M                                   0.06  \n",
       "Less than $40K  High School     M                                   0.05  \n",
       "                Uneducated      M                                   0.04  \n",
       "                College         M                                   0.00  "
      ]
     },
     "execution_count": 16,
     "metadata": {},
     "output_type": "execute_result"
    }
   ],
   "source": [
    "grouped=filtered2.groupby(by=['Income_Category','Education_Level','Gender',]).agg(Total_amount=('CLIENTNUM','count'),leaving_amount=('haveleft' ,'sum'))\n",
    "grouped['leaving_ratio_of_group(%)']=round((grouped['leaving_amount']/grouped['Total_amount'])*100,2)\n",
    "grouped['leaving_ratio_relative_to_ALL(%)']=round((grouped['leaving_amount']/data['CLIENTNUM'].count())*100,2)\n",
    "grouped.sort_values(by='leaving_ratio_relative_to_ALL(%)',ascending=False)"
   ]
  },
  {
   "cell_type": "markdown",
   "id": "bf8346d9-80da-4f2b-a1c4-67758079485c",
   "metadata": {},
   "source": [
    "## Summary:\n",
    "My insights about the leaving customers:  \n",
    "1. The most general insight is: The customers that have the card category of Blue have the highest leaving ratio related to the other cards and to all (22.4% out of 23.4% leaving ratio in general).       \n",
    "Considering that Blue cards customers are 93.18% of all. we have to be more specific about them.     \n",
    "2. Most of the Blue cards customers that are Single or Married have a high ratio of general leaving (18.96% out of 23.4 general leaving ratio).    \n",
    "3. Most of the leaving customers are Females with leaving the ratio of 31.41% (Males 15.36%).      \n",
    "4. Most of the leaving customers related to Income category of Less than 40K (13.18% out of 23.4% leaving ratio in general).    \n",
    "In case we want even more specific detail about leaving costumers    \n",
    "5. we can see from the grouped data frame above the top leaving groups (All the Above are Blue card and Single or Married customers).     "
   ]
  }
 ],
 "metadata": {
  "kernelspec": {
   "display_name": "Python 3",
   "language": "python",
   "name": "python3"
  },
  "language_info": {
   "codemirror_mode": {
    "name": "ipython",
    "version": 3
   },
   "file_extension": ".py",
   "mimetype": "text/x-python",
   "name": "python",
   "nbconvert_exporter": "python",
   "pygments_lexer": "ipython3",
   "version": "3.8.8"
  }
 },
 "nbformat": 4,
 "nbformat_minor": 5
}
