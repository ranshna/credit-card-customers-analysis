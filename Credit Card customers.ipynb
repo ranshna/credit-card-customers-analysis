{
 "cells": [
  {
   "cell_type": "markdown",
   "id": "511038ae-ae65-42ea-ae61-eb2b6bbfb0ca",
   "metadata": {},
   "source": [
    "# Anlyzing credit card Customers \n",
    "## Intro\n",
    "A manager at the bank is disturbed with more and more customers leaving their credit card services.  \n",
    "They would really appreciate it if one could Tell what is common or define the Leaving customers.  \n",
    "This dataset consists of 10,000 customers mentioning their age, salary, marital_status, credit card limit, credit card category, etc. There are nearly 18 features.  \n",
    "let's check this data and find out what are the patterns of customers who have left."
   ]
  },
  {
   "cell_type": "code",
   "execution_count": 1,
   "id": "fc938c48-29c6-4a9e-943c-8baf0c58a3b5",
   "metadata": {},
   "outputs": [],
   "source": [
    "import pandas as pd\n",
    "import numpy as np\n",
    "import matplotlib.pyplot as plt"
   ]
  },
  {
   "cell_type": "markdown",
   "id": "7ea12cc4-d672-4832-8d1c-7aae6b2cf514",
   "metadata": {
    "tags": []
   },
   "source": [
    "#### Loading the BankChurners.csv as pandas data frame"
   ]
  },
  {
   "cell_type": "code",
   "execution_count": 2,
   "id": "c3826586-54dd-43ea-a471-89e57c585376",
   "metadata": {
    "tags": []
   },
   "outputs": [],
   "source": [
    "data = pd.read_csv(r'.\\BankChurners.csv')"
   ]
  },
  {
   "cell_type": "code",
   "execution_count": 3,
   "id": "aa4a2534-df5d-4d17-8c65-23c032ccb9c7",
   "metadata": {},
   "outputs": [
    {
     "data": {
      "text/html": [
       "<div>\n",
       "<style scoped>\n",
       "    .dataframe tbody tr th:only-of-type {\n",
       "        vertical-align: middle;\n",
       "    }\n",
       "\n",
       "    .dataframe tbody tr th {\n",
       "        vertical-align: top;\n",
       "    }\n",
       "\n",
       "    .dataframe thead th {\n",
       "        text-align: right;\n",
       "    }\n",
       "</style>\n",
       "<table border=\"1\" class=\"dataframe\">\n",
       "  <thead>\n",
       "    <tr style=\"text-align: right;\">\n",
       "      <th></th>\n",
       "      <th>CLIENTNUM</th>\n",
       "      <th>Attrition_Flag</th>\n",
       "      <th>Customer_Age</th>\n",
       "      <th>Gender</th>\n",
       "      <th>Dependent_count</th>\n",
       "      <th>Education_Level</th>\n",
       "      <th>Marital_Status</th>\n",
       "      <th>Income_Category</th>\n",
       "      <th>Card_Category</th>\n",
       "      <th>Months_on_book</th>\n",
       "      <th>...</th>\n",
       "      <th>Credit_Limit</th>\n",
       "      <th>Total_Revolving_Bal</th>\n",
       "      <th>Avg_Open_To_Buy</th>\n",
       "      <th>Total_Amt_Chng_Q4_Q1</th>\n",
       "      <th>Total_Trans_Amt</th>\n",
       "      <th>Total_Trans_Ct</th>\n",
       "      <th>Total_Ct_Chng_Q4_Q1</th>\n",
       "      <th>Avg_Utilization_Ratio</th>\n",
       "      <th>Naive_Bayes_Classifier_Attrition_Flag_Card_Category_Contacts_Count_12_mon_Dependent_count_Education_Level_Months_Inactive_12_mon_1</th>\n",
       "      <th>Naive_Bayes_Classifier_Attrition_Flag_Card_Category_Contacts_Count_12_mon_Dependent_count_Education_Level_Months_Inactive_12_mon_2</th>\n",
       "    </tr>\n",
       "  </thead>\n",
       "  <tbody>\n",
       "    <tr>\n",
       "      <th>0</th>\n",
       "      <td>810347208</td>\n",
       "      <td>Existing Customer</td>\n",
       "      <td>42</td>\n",
       "      <td>M</td>\n",
       "      <td>5</td>\n",
       "      <td>Uneducated</td>\n",
       "      <td>Unknown</td>\n",
       "      <td>$120K +</td>\n",
       "      <td>Blue</td>\n",
       "      <td>46</td>\n",
       "      <td>...</td>\n",
       "      <td>34516.0</td>\n",
       "      <td>2264</td>\n",
       "      <td>32252.0</td>\n",
       "      <td>1.975</td>\n",
       "      <td>1330</td>\n",
       "      <td>31</td>\n",
       "      <td>0.722</td>\n",
       "      <td>0.066</td>\n",
       "      <td>0.000123</td>\n",
       "      <td>0.999880</td>\n",
       "    </tr>\n",
       "    <tr>\n",
       "      <th>1</th>\n",
       "      <td>708790833</td>\n",
       "      <td>Existing Customer</td>\n",
       "      <td>49</td>\n",
       "      <td>M</td>\n",
       "      <td>2</td>\n",
       "      <td>Unknown</td>\n",
       "      <td>Married</td>\n",
       "      <td>$120K +</td>\n",
       "      <td>Blue</td>\n",
       "      <td>31</td>\n",
       "      <td>...</td>\n",
       "      <td>6748.0</td>\n",
       "      <td>1467</td>\n",
       "      <td>5281.0</td>\n",
       "      <td>0.831</td>\n",
       "      <td>1201</td>\n",
       "      <td>42</td>\n",
       "      <td>0.680</td>\n",
       "      <td>0.217</td>\n",
       "      <td>0.000191</td>\n",
       "      <td>0.999810</td>\n",
       "    </tr>\n",
       "    <tr>\n",
       "      <th>2</th>\n",
       "      <td>712813458</td>\n",
       "      <td>Attrited Customer</td>\n",
       "      <td>56</td>\n",
       "      <td>M</td>\n",
       "      <td>2</td>\n",
       "      <td>Graduate</td>\n",
       "      <td>Married</td>\n",
       "      <td>$120K +</td>\n",
       "      <td>Blue</td>\n",
       "      <td>36</td>\n",
       "      <td>...</td>\n",
       "      <td>19763.0</td>\n",
       "      <td>2517</td>\n",
       "      <td>17246.0</td>\n",
       "      <td>0.664</td>\n",
       "      <td>1414</td>\n",
       "      <td>35</td>\n",
       "      <td>0.250</td>\n",
       "      <td>0.127</td>\n",
       "      <td>0.000046</td>\n",
       "      <td>0.999950</td>\n",
       "    </tr>\n",
       "    <tr>\n",
       "      <th>3</th>\n",
       "      <td>714374133</td>\n",
       "      <td>Existing Customer</td>\n",
       "      <td>44</td>\n",
       "      <td>M</td>\n",
       "      <td>4</td>\n",
       "      <td>Post-Graduate</td>\n",
       "      <td>Single</td>\n",
       "      <td>$120K +</td>\n",
       "      <td>Blue</td>\n",
       "      <td>36</td>\n",
       "      <td>...</td>\n",
       "      <td>15769.0</td>\n",
       "      <td>0</td>\n",
       "      <td>15769.0</td>\n",
       "      <td>1.041</td>\n",
       "      <td>602</td>\n",
       "      <td>15</td>\n",
       "      <td>0.364</td>\n",
       "      <td>0.000</td>\n",
       "      <td>0.996710</td>\n",
       "      <td>0.003294</td>\n",
       "    </tr>\n",
       "    <tr>\n",
       "      <th>4</th>\n",
       "      <td>710082708</td>\n",
       "      <td>Existing Customer</td>\n",
       "      <td>53</td>\n",
       "      <td>M</td>\n",
       "      <td>2</td>\n",
       "      <td>High School</td>\n",
       "      <td>Single</td>\n",
       "      <td>$120K +</td>\n",
       "      <td>Blue</td>\n",
       "      <td>32</td>\n",
       "      <td>...</td>\n",
       "      <td>23957.0</td>\n",
       "      <td>2102</td>\n",
       "      <td>21855.0</td>\n",
       "      <td>0.997</td>\n",
       "      <td>1276</td>\n",
       "      <td>26</td>\n",
       "      <td>0.733</td>\n",
       "      <td>0.088</td>\n",
       "      <td>0.000268</td>\n",
       "      <td>0.999730</td>\n",
       "    </tr>\n",
       "  </tbody>\n",
       "</table>\n",
       "<p>5 rows × 23 columns</p>\n",
       "</div>"
      ],
      "text/plain": [
       "   CLIENTNUM     Attrition_Flag  Customer_Age Gender  Dependent_count  \\\n",
       "0  810347208  Existing Customer            42      M                5   \n",
       "1  708790833  Existing Customer            49      M                2   \n",
       "2  712813458  Attrited Customer            56      M                2   \n",
       "3  714374133  Existing Customer            44      M                4   \n",
       "4  710082708  Existing Customer            53      M                2   \n",
       "\n",
       "  Education_Level Marital_Status Income_Category Card_Category  \\\n",
       "0      Uneducated        Unknown         $120K +          Blue   \n",
       "1         Unknown        Married         $120K +          Blue   \n",
       "2        Graduate        Married         $120K +          Blue   \n",
       "3   Post-Graduate         Single         $120K +          Blue   \n",
       "4     High School         Single         $120K +          Blue   \n",
       "\n",
       "   Months_on_book  ...  Credit_Limit  Total_Revolving_Bal  Avg_Open_To_Buy  \\\n",
       "0              46  ...       34516.0                 2264          32252.0   \n",
       "1              31  ...        6748.0                 1467           5281.0   \n",
       "2              36  ...       19763.0                 2517          17246.0   \n",
       "3              36  ...       15769.0                    0          15769.0   \n",
       "4              32  ...       23957.0                 2102          21855.0   \n",
       "\n",
       "   Total_Amt_Chng_Q4_Q1  Total_Trans_Amt  Total_Trans_Ct  Total_Ct_Chng_Q4_Q1  \\\n",
       "0                 1.975             1330              31                0.722   \n",
       "1                 0.831             1201              42                0.680   \n",
       "2                 0.664             1414              35                0.250   \n",
       "3                 1.041              602              15                0.364   \n",
       "4                 0.997             1276              26                0.733   \n",
       "\n",
       "   Avg_Utilization_Ratio  \\\n",
       "0                  0.066   \n",
       "1                  0.217   \n",
       "2                  0.127   \n",
       "3                  0.000   \n",
       "4                  0.088   \n",
       "\n",
       "   Naive_Bayes_Classifier_Attrition_Flag_Card_Category_Contacts_Count_12_mon_Dependent_count_Education_Level_Months_Inactive_12_mon_1  \\\n",
       "0                                           0.000123                                                                                    \n",
       "1                                           0.000191                                                                                    \n",
       "2                                           0.000046                                                                                    \n",
       "3                                           0.996710                                                                                    \n",
       "4                                           0.000268                                                                                    \n",
       "\n",
       "   Naive_Bayes_Classifier_Attrition_Flag_Card_Category_Contacts_Count_12_mon_Dependent_count_Education_Level_Months_Inactive_12_mon_2  \n",
       "0                                           0.999880                                                                                   \n",
       "1                                           0.999810                                                                                   \n",
       "2                                           0.999950                                                                                   \n",
       "3                                           0.003294                                                                                   \n",
       "4                                           0.999730                                                                                   \n",
       "\n",
       "[5 rows x 23 columns]"
      ]
     },
     "execution_count": 3,
     "metadata": {},
     "output_type": "execute_result"
    }
   ],
   "source": [
    "data.head()"
   ]
  },
  {
   "cell_type": "markdown",
   "id": "695945bf-f320-4e86-8b69-6b7c020ad39d",
   "metadata": {},
   "source": [
    "#### Removing not relevant columns"
   ]
  },
  {
   "cell_type": "code",
   "execution_count": 4,
   "id": "82a96b11-8817-41ef-ba95-f377e7897ca8",
   "metadata": {},
   "outputs": [],
   "source": [
    "new_data = data.copy()[['CLIENTNUM','Attrition_Flag','Customer_Age','Gender','Education_Level','Marital_Status','Income_Category','Card_Category']]"
   ]
  },
  {
   "cell_type": "markdown",
   "id": "9e6ae044-5a8b-4776-8d5e-7a62d0eda3d6",
   "metadata": {},
   "source": [
    "#### Data overview"
   ]
  },
  {
   "cell_type": "code",
   "execution_count": 5,
   "id": "215dca70-ca14-4f1e-bfe1-22346dd8247e",
   "metadata": {},
   "outputs": [
    {
     "name": "stdout",
     "output_type": "stream",
     "text": [
      "<class 'pandas.core.frame.DataFrame'>\n",
      "RangeIndex: 10127 entries, 0 to 10126\n",
      "Data columns (total 8 columns):\n",
      " #   Column           Non-Null Count  Dtype \n",
      "---  ------           --------------  ----- \n",
      " 0   CLIENTNUM        10127 non-null  int64 \n",
      " 1   Attrition_Flag   10127 non-null  object\n",
      " 2   Customer_Age     10127 non-null  int64 \n",
      " 3   Gender           10127 non-null  object\n",
      " 4   Education_Level  10127 non-null  object\n",
      " 5   Marital_Status   10127 non-null  object\n",
      " 6   Income_Category  10127 non-null  object\n",
      " 7   Card_Category    10127 non-null  object\n",
      "dtypes: int64(2), object(6)\n",
      "memory usage: 633.1+ KB\n"
     ]
    }
   ],
   "source": [
    "new_data.info()"
   ]
  },
  {
   "cell_type": "code",
   "execution_count": 6,
   "id": "1b3bff9d-5220-4110-a5f7-6170eacd13f0",
   "metadata": {},
   "outputs": [
    {
     "data": {
      "text/html": [
       "<div>\n",
       "<style scoped>\n",
       "    .dataframe tbody tr th:only-of-type {\n",
       "        vertical-align: middle;\n",
       "    }\n",
       "\n",
       "    .dataframe tbody tr th {\n",
       "        vertical-align: top;\n",
       "    }\n",
       "\n",
       "    .dataframe thead th {\n",
       "        text-align: right;\n",
       "    }\n",
       "</style>\n",
       "<table border=\"1\" class=\"dataframe\">\n",
       "  <thead>\n",
       "    <tr style=\"text-align: right;\">\n",
       "      <th></th>\n",
       "      <th>CLIENTNUM</th>\n",
       "      <th>Customer_Age</th>\n",
       "    </tr>\n",
       "  </thead>\n",
       "  <tbody>\n",
       "    <tr>\n",
       "      <th>count</th>\n",
       "      <td>1.012700e+04</td>\n",
       "      <td>10127.000000</td>\n",
       "    </tr>\n",
       "    <tr>\n",
       "      <th>mean</th>\n",
       "      <td>7.391776e+08</td>\n",
       "      <td>46.325960</td>\n",
       "    </tr>\n",
       "    <tr>\n",
       "      <th>std</th>\n",
       "      <td>3.690378e+07</td>\n",
       "      <td>8.016814</td>\n",
       "    </tr>\n",
       "    <tr>\n",
       "      <th>min</th>\n",
       "      <td>7.080821e+08</td>\n",
       "      <td>26.000000</td>\n",
       "    </tr>\n",
       "    <tr>\n",
       "      <th>25%</th>\n",
       "      <td>7.130368e+08</td>\n",
       "      <td>41.000000</td>\n",
       "    </tr>\n",
       "    <tr>\n",
       "      <th>50%</th>\n",
       "      <td>7.179264e+08</td>\n",
       "      <td>46.000000</td>\n",
       "    </tr>\n",
       "    <tr>\n",
       "      <th>75%</th>\n",
       "      <td>7.731435e+08</td>\n",
       "      <td>52.000000</td>\n",
       "    </tr>\n",
       "    <tr>\n",
       "      <th>max</th>\n",
       "      <td>8.283431e+08</td>\n",
       "      <td>73.000000</td>\n",
       "    </tr>\n",
       "  </tbody>\n",
       "</table>\n",
       "</div>"
      ],
      "text/plain": [
       "          CLIENTNUM  Customer_Age\n",
       "count  1.012700e+04  10127.000000\n",
       "mean   7.391776e+08     46.325960\n",
       "std    3.690378e+07      8.016814\n",
       "min    7.080821e+08     26.000000\n",
       "25%    7.130368e+08     41.000000\n",
       "50%    7.179264e+08     46.000000\n",
       "75%    7.731435e+08     52.000000\n",
       "max    8.283431e+08     73.000000"
      ]
     },
     "execution_count": 6,
     "metadata": {},
     "output_type": "execute_result"
    }
   ],
   "source": [
    "new_data.describe()"
   ]
  },
  {
   "cell_type": "markdown",
   "id": "984c20d2-5ed1-479e-be23-3bea659c5bdb",
   "metadata": {},
   "source": [
    "#### Adding binary value column for left costumers"
   ]
  },
  {
   "cell_type": "code",
   "execution_count": 7,
   "id": "016cd794-c0e8-4a8a-b4f8-6c402511d0bc",
   "metadata": {},
   "outputs": [],
   "source": [
    "new_data['haveleft']= np.where(new_data['Attrition_Flag']=='Attrited Customer',1,0)"
   ]
  },
  {
   "cell_type": "markdown",
   "id": "69b3117e-56d7-463c-9392-713f944d0707",
   "metadata": {},
   "source": [
    "##### Checking what percentage of our customers have left"
   ]
  },
  {
   "cell_type": "code",
   "execution_count": 8,
   "id": "892028fb-eab1-450d-b999-736745558752",
   "metadata": {},
   "outputs": [
    {
     "data": {
      "image/png": "[encoded data removed]",
      "text/plain": [
       "<Figure size 360x360 with 1 Axes>"
      ]
     },
     "metadata": {},
     "output_type": "display_data"
    }
   ],
   "source": [
    "count=pd.value_counts(new_data['Attrition_Flag']).tolist()\n",
    "plt.figure(figsize=(5,5))\n",
    "plt.title(\"Percentage of Attrited Customer and Existing Customer\")\n",
    "plt.pie(x=count,labels=[\"Existing Customers\",\"Attrited Customer\"],autopct='%.2f%%')\n",
    "plt.show()"
   ]
  },
  {
   "cell_type": "markdown",
   "id": "25197869-04ca-4d4f-b6e0-d2893985ae66",
   "metadata": {},
   "source": [
    "#### Histogram of age "
   ]
  },
  {
   "cell_type": "code",
   "execution_count": 9,
   "id": "7d362683-0940-49ff-9ad8-4dd852f2a5ed",
   "metadata": {},
   "outputs": [
    {
     "data": {
      "text/plain": [
       "array([[<AxesSubplot:title={'center':'Customer_Age'}>]], dtype=object)"
      ]
     },
     "execution_count": 9,
     "metadata": {},
     "output_type": "execute_result"
    },
    {
     "data": {
      "image/png": "[encoded data removed]",
      "text/plain": [
       "<Figure size 1080x504 with 1 Axes>"
      ]
     },
     "metadata": {
      "needs_background": "light"
     },
     "output_type": "display_data"
    }
   ],
   "source": [
    "new_data.hist('Customer_Age',figsize=(15,7),bins=47)"
   ]
  },
  {
   "cell_type": "markdown",
   "id": "4ebefb4b-538d-4410-9000-aae137ddad1a",
   "metadata": {},
   "source": [
    "The distribution of the age is Normal.  \n",
    "Now check if age is a factor in leaving.  \n",
    "by Getting the distribution of left customers by age."
   ]
  },
  {
   "cell_type": "code",
   "execution_count": 10,
   "id": "915655af-c2d3-47c2-b76e-1ec4a19a851f",
   "metadata": {},
   "outputs": [
    {
     "data": {
      "text/plain": [
       "<AxesSubplot:xlabel='Customer_Age'>"
      ]
     },
     "execution_count": 10,
     "metadata": {},
     "output_type": "execute_result"
    },
    {
     "data": {
      "image/png": "[encoded data removed]",
      "text/plain": [
       "<Figure size 1080x504 with 1 Axes>"
      ]
     },
     "metadata": {
      "needs_background": "light"
     },
     "output_type": "display_data"
    }
   ],
   "source": [
    "new_data.groupby(by=\"Customer_Age\")['haveleft'].sum().plot(kind='bar',figsize=(15,7))"
   ]
  },
  {
   "cell_type": "markdown",
   "id": "9b31af09-48bd-4e21-bef7-d4ad0f7733d6",
   "metadata": {},
   "source": [
    "We can conclude from the plot above that even customers who have left by age are normally distributed.  \n",
    "So age does not cause leaving"
   ]
  },
  {
   "cell_type": "markdown",
   "id": "9aff58fa-38b0-469f-a855-fd22ae3ae644",
   "metadata": {},
   "source": [
    "#### Getting leaving ratio by fields"
   ]
  },
  {
   "cell_type": "code",
   "execution_count": 11,
   "id": "1d1021ec-937e-4463-89e9-43f19b9eaffd",
   "metadata": {},
   "outputs": [
    {
     "name": "stdout",
     "output_type": "stream",
     "text": [
      "Attrition ratio by Education_Level\n",
      "  Education_Level  leave  total  ratio_by_value(%)  ratio_relative_to_ALL(%)\n",
      "0        Graduate    712   3128              22.76                      7.03\n",
      "1     High School    453   2013              22.50                      4.47\n",
      "2         Unknown    365   1519              24.03                      3.60\n",
      "3      Uneducated    358   1487              24.08                      3.54\n",
      "4         College    220   1013              21.72                      2.17\n",
      "5       Doctorate    138    451              30.60                      1.36\n",
      "6   Post-Graduate    125    516              24.22                      1.23 \n",
      "\n",
      "\n",
      "Attrition ratio by Gender\n",
      "  Gender  leave  total  ratio_by_value(%)  ratio_relative_to_ALL(%)\n",
      "0      F   1637   5358              30.55                     16.16\n",
      "1      M    734   4769              15.39                      7.25 \n",
      "\n",
      "\n",
      "Attrition ratio by Marital_Status\n",
      "  Marital_Status  leave  total  ratio_by_value(%)  ratio_relative_to_ALL(%)\n",
      "0        Married   1022   4687              21.80                     10.09\n",
      "1         Single    985   3943              24.98                      9.73\n",
      "2        Unknown    186    749              24.83                      1.84\n",
      "3       Divorced    178    748              23.80                      1.76 \n",
      "\n",
      "\n",
      "Attrition ratio by Income_Category\n",
      "  Income_Category  leave  total  ratio_by_value(%)  ratio_relative_to_ALL(%)\n",
      "0  Less than $40K   1356   3561              38.08                     13.39\n",
      "1     $40K - $60K    271   1790              15.14                      2.68\n",
      "2    $80K - $120K    242   1535              15.77                      2.39\n",
      "3     $60K - $80K    189   1402              13.48                      1.87\n",
      "4         Unknown    187   1112              16.82                      1.85\n",
      "5         $120K +    126    727              17.33                      1.24 \n",
      "\n",
      "\n",
      "Attrition ratio by Card_Category\n",
      "  Card_Category  leave  total  ratio_by_value(%)  ratio_relative_to_ALL(%)\n",
      "0          Blue   2268   9436              24.04                     22.40\n",
      "1        Silver     78    555              14.05                      0.77\n",
      "2          Gold     20    116              17.24                      0.20\n",
      "3      Platinum      5     20              25.00                      0.05 \n",
      "\n",
      "\n"
     ]
    }
   ],
   "source": [
    "columns=['Education_Level','Gender','Marital_Status','Income_Category','Card_Category']\n",
    "for i in columns:\n",
    "    print(\"Attrition ratio by \"+str(i))\n",
    "    leftdata=new_data[i][new_data['haveleft']==1].value_counts().rename_axis(i).reset_index(name='leave')\n",
    "    totaldata=new_data[i].value_counts().rename_axis(i).reset_index(name='total')\n",
    "    merged=pd.merge(leftdata,totaldata,how='left')\n",
    "    merged['ratio_by_value(%)']=round((merged['leave']/merged['total'])*100,2)\n",
    "    merged['ratio_relative_to_ALL(%)']=round((merged['leave']/data['CLIENTNUM'].count())*100,2)\n",
    "    print(merged,'\\n'*2)\n",
    "    "
   ]
  },
  {
   "cell_type": "markdown",
   "id": "0e7a37af-8b5f-4a3f-a22c-faa6545a4616",
   "metadata": {},
   "source": [
    "By considering the combination of the leaving ratio by value with the relation of leaving ratio relative to all.  \n",
    "The main relevant field Is:  \n",
    "**Card Category: highest leaving ratio by value (38%)  and highest leaving ratio relative to all (22.4% from all the customers)**"
   ]
  },
  {
   "cell_type": "code",
   "execution_count": 12,
   "id": "ba54c9ff-437d-4241-9062-06d15277ade7",
   "metadata": {},
   "outputs": [
    {
     "name": "stdout",
     "output_type": "stream",
     "text": [
      "AxesSubplot(0.125,0.125;0.775x0.755)\n"
     ]
    },
    {
     "data": {
      "image/png": "[encoded data removed]",
      "text/plain": [
       "<Figure size 1080x504 with 1 Axes>"
      ]
     },
     "metadata": {
      "needs_background": "light"
     },
     "output_type": "display_data"
    }
   ],
   "source": [
    "total=new_data['Card_Category'].value_counts().rename_axis('Card_Category').reset_index(name='total')\n",
    "lefted=new_data['Card_Category'][new_data['haveleft']==1].value_counts().rename_axis('Card_Category').reset_index(name='have left')\n",
    "merged=pd.merge(total,lefted,how='left').plot.barh(x='Card_Category',figsize=(15,7))\n",
    "print(merged)"
   ]
  },
  {
   "cell_type": "markdown",
   "id": "d968df0b-dd86-4c11-a895-6fc04bba6bf5",
   "metadata": {},
   "source": [
    "##### Filtering the customers who related to the relevant Card_Category (Blue) "
   ]
  },
  {
   "cell_type": "code",
   "execution_count": 13,
   "id": "98542f04-7169-4f40-a426-45b4569f4c31",
   "metadata": {},
   "outputs": [],
   "source": [
    "filterdata = new_data[new_data['Card_Category']== 'Blue']"
   ]
  },
  {
   "cell_type": "markdown",
   "id": "def252ec-7bcb-4765-93fc-7f9dfb253f68",
   "metadata": {},
   "source": [
    "Now let's deep dive into those customers to get more details about them in order to find out where is the most leaving customers located"
   ]
  },
  {
   "cell_type": "code",
   "execution_count": 14,
   "id": "02457f7a-820f-4743-bc87-6aa6010c1092",
   "metadata": {},
   "outputs": [
    {
     "name": "stdout",
     "output_type": "stream",
     "text": [
      "value counts by Income_Category\n",
      "  Income_Category  total  leave  ratio_by_value(%)  ratio_relative_to_ALL(%)\n",
      "0  Less than $40K   3403   1335              39.23                     13.18\n",
      "1     $40K - $60K   1675    257              15.34                      2.54\n",
      "2    $80K - $120K   1395    215              15.41                      2.12\n",
      "3     $60K - $80K   1273    172              13.51                      1.70\n",
      "4         Unknown   1045    176              16.84                      1.74\n",
      "5         $120K +    645    113              17.52                      1.12 \n",
      "\n",
      "\n",
      "value counts by Education_Level\n",
      "  Education_Level  total  leave  ratio_by_value(%)  ratio_relative_to_ALL(%)\n",
      "0        Graduate   2899    677              23.35                      6.69\n",
      "1     High School   1888    435              23.04                      4.30\n",
      "2         Unknown   1420    353              24.86                      3.49\n",
      "3      Uneducated   1391    343              24.66                      3.39\n",
      "4         College    940    209              22.23                      2.06\n",
      "5   Post-Graduate    476    117              24.58                      1.16\n",
      "6       Doctorate    422    134              31.75                      1.32 \n",
      "\n",
      "\n",
      "value counts by Marital_Status\n",
      "  Marital_Status  total  leave  ratio_by_value(%)  ratio_relative_to_ALL(%)\n",
      "0        Married   4433    989              22.31                      9.77\n",
      "1         Single   3624    931              25.69                      9.19\n",
      "2       Divorced    696    171              24.57                      1.69\n",
      "3        Unknown    683    177              25.92                      1.75 \n",
      "\n",
      "\n",
      "value counts by Gender\n",
      "  Gender  total  leave  ratio_by_value(%)  ratio_relative_to_ALL(%)\n",
      "0      F   5101   1602              31.41                     15.82\n",
      "1      M   4335    666              15.36                      6.58 \n",
      "\n",
      "\n"
     ]
    }
   ],
   "source": [
    "columns=['Income_Category','Education_Level','Marital_Status','Gender']\n",
    "for i in columns:   \n",
    "    print('value counts by '+i)\n",
    "    dftotal=filterdata[i].value_counts().rename_axis(i).reset_index(name='total')\n",
    "    dfleft=filterdata[i][filterdata['haveleft']==1].value_counts().rename_axis(i).reset_index(name='leave')\n",
    "    df=pd.merge(dftotal,dfleft,how='left')  \n",
    "    df['ratio_by_value(%)']=round((df['leave']/df['total'])*100,2)\n",
    "    df['ratio_relative_to_ALL(%)']=round((df['leave']/data['CLIENTNUM'].count())*100,2)\n",
    "    print(df,'\\n'*2)"
   ]
  },
  {
   "cell_type": "markdown",
   "id": "7f655d5c-4352-460c-90ff-38eaaa4fe210",
   "metadata": {},
   "source": [
    "First of all, we can infer that the material status of Married and Single customers have a really high leaving ratio related to the others so they should be filtered.  \n",
    "\n",
    "In order to know about any pattern of leaving customers, we have to be focused.  \n",
    "As we can see from the above there is a huge-range leaving ratio for the values.  \n",
    "We Have to define what is the limit of leaving ratio that might show us a pattern of leaving.\n",
    "By considering the results I decided to define the limit of 2%  leaving the ratio relative to all.  \n",
    "It means that any value from all the fields that have leaving ratio under 2% is not relevant.  \n",
    "So the next step is to filter the values that have leaving ratio above 2%."
   ]
  },
  {
   "cell_type": "code",
   "execution_count": 15,
   "id": "710ce4e0-1870-4b03-8ea4-2a1b7fff216b",
   "metadata": {},
   "outputs": [],
   "source": [
    "filtered2=filterdata[filterdata['Marital_Status'].isin(['Single','Married']) & filterdata['Education_Level'].isin(['Graduate','High School','Uneducated','College'])\n",
    "                    & filterdata['Income_Category'].isin(['Less than $40K','$40K - $60K','$80K - $120K'])]\n"
   ]
  },
  {
   "cell_type": "markdown",
   "id": "71b2cb4a-88d6-4b15-b529-6ae4abdcda5b",
   "metadata": {},
   "source": [
    "#### For getting specific values that can define leaving patterns for specific groups of values we have to group the data by Income Category, Education Level, and Gender."
   ]
  },
  {
   "cell_type": "code",
   "execution_count": 16,
   "id": "16b3ee4b-b285-45af-b2ca-d13e0e22dc3e",
   "metadata": {},
   "outputs": [
    {
     "data": {
      "text/html": [
       "<div>\n",
       "<style scoped>\n",
       "    .dataframe tbody tr th:only-of-type {\n",
       "        vertical-align: middle;\n",
       "    }\n",
       "\n",
       "    .dataframe tbody tr th {\n",
       "        vertical-align: top;\n",
       "    }\n",
       "\n",
       "    .dataframe thead th {\n",
       "        text-align: right;\n",
       "    }\n",
       "</style>\n",
       "<table border=\"1\" class=\"dataframe\">\n",
       "  <thead>\n",
       "    <tr style=\"text-align: right;\">\n",
       "      <th></th>\n",
       "      <th></th>\n",
       "      <th></th>\n",
       "      <th>Total_amount</th>\n",
       "      <th>leaving_amount</th>\n",
       "      <th>leaving_ratio_of_group(%)</th>\n",
       "      <th>leaving_ratio_relative_to_ALL(%)</th>\n",
       "    </tr>\n",
       "    <tr>\n",
       "      <th>Income_Category</th>\n",
       "      <th>Education_Level</th>\n",
       "      <th>Gender</th>\n",
       "      <th></th>\n",
       "      <th></th>\n",
       "      <th></th>\n",
       "      <th></th>\n",
       "    </tr>\n",
       "  </thead>\n",
       "  <tbody>\n",
       "    <tr>\n",
       "      <th rowspan=\"4\" valign=\"top\">Less than $40K</th>\n",
       "      <th>Graduate</th>\n",
       "      <th>F</th>\n",
       "      <td>849</td>\n",
       "      <td>343</td>\n",
       "      <td>40.40</td>\n",
       "      <td>3.39</td>\n",
       "    </tr>\n",
       "    <tr>\n",
       "      <th>High School</th>\n",
       "      <th>F</th>\n",
       "      <td>508</td>\n",
       "      <td>196</td>\n",
       "      <td>38.58</td>\n",
       "      <td>1.94</td>\n",
       "    </tr>\n",
       "    <tr>\n",
       "      <th>Uneducated</th>\n",
       "      <th>F</th>\n",
       "      <td>398</td>\n",
       "      <td>160</td>\n",
       "      <td>40.20</td>\n",
       "      <td>1.58</td>\n",
       "    </tr>\n",
       "    <tr>\n",
       "      <th>College</th>\n",
       "      <th>F</th>\n",
       "      <td>263</td>\n",
       "      <td>96</td>\n",
       "      <td>36.50</td>\n",
       "      <td>0.95</td>\n",
       "    </tr>\n",
       "    <tr>\n",
       "      <th>$80K - $120K</th>\n",
       "      <th>Graduate</th>\n",
       "      <th>M</th>\n",
       "      <td>373</td>\n",
       "      <td>50</td>\n",
       "      <td>13.40</td>\n",
       "      <td>0.49</td>\n",
       "    </tr>\n",
       "    <tr>\n",
       "      <th rowspan=\"2\" valign=\"top\">$40K - $60K</th>\n",
       "      <th>Graduate</th>\n",
       "      <th>F</th>\n",
       "      <td>257</td>\n",
       "      <td>39</td>\n",
       "      <td>15.18</td>\n",
       "      <td>0.39</td>\n",
       "    </tr>\n",
       "    <tr>\n",
       "      <th>High School</th>\n",
       "      <th>F</th>\n",
       "      <td>168</td>\n",
       "      <td>32</td>\n",
       "      <td>19.05</td>\n",
       "      <td>0.32</td>\n",
       "    </tr>\n",
       "    <tr>\n",
       "      <th rowspan=\"3\" valign=\"top\">$80K - $120K</th>\n",
       "      <th>High School</th>\n",
       "      <th>M</th>\n",
       "      <td>234</td>\n",
       "      <td>29</td>\n",
       "      <td>12.39</td>\n",
       "      <td>0.29</td>\n",
       "    </tr>\n",
       "    <tr>\n",
       "      <th>Uneducated</th>\n",
       "      <th>M</th>\n",
       "      <td>164</td>\n",
       "      <td>28</td>\n",
       "      <td>17.07</td>\n",
       "      <td>0.28</td>\n",
       "    </tr>\n",
       "    <tr>\n",
       "      <th>College</th>\n",
       "      <th>M</th>\n",
       "      <td>131</td>\n",
       "      <td>27</td>\n",
       "      <td>20.61</td>\n",
       "      <td>0.27</td>\n",
       "    </tr>\n",
       "    <tr>\n",
       "      <th rowspan=\"2\" valign=\"top\">$40K - $60K</th>\n",
       "      <th>Graduate</th>\n",
       "      <th>M</th>\n",
       "      <td>182</td>\n",
       "      <td>21</td>\n",
       "      <td>11.54</td>\n",
       "      <td>0.21</td>\n",
       "    </tr>\n",
       "    <tr>\n",
       "      <th>Uneducated</th>\n",
       "      <th>M</th>\n",
       "      <td>98</td>\n",
       "      <td>17</td>\n",
       "      <td>17.35</td>\n",
       "      <td>0.17</td>\n",
       "    </tr>\n",
       "    <tr>\n",
       "      <th>Less than $40K</th>\n",
       "      <th>Graduate</th>\n",
       "      <th>M</th>\n",
       "      <td>78</td>\n",
       "      <td>17</td>\n",
       "      <td>21.79</td>\n",
       "      <td>0.17</td>\n",
       "    </tr>\n",
       "    <tr>\n",
       "      <th rowspan=\"2\" valign=\"top\">$40K - $60K</th>\n",
       "      <th>Uneducated</th>\n",
       "      <th>F</th>\n",
       "      <td>96</td>\n",
       "      <td>15</td>\n",
       "      <td>15.62</td>\n",
       "      <td>0.15</td>\n",
       "    </tr>\n",
       "    <tr>\n",
       "      <th>College</th>\n",
       "      <th>F</th>\n",
       "      <td>86</td>\n",
       "      <td>13</td>\n",
       "      <td>15.12</td>\n",
       "      <td>0.13</td>\n",
       "    </tr>\n",
       "    <tr>\n",
       "      <th>Less than $40K</th>\n",
       "      <th>High School</th>\n",
       "      <th>M</th>\n",
       "      <td>42</td>\n",
       "      <td>11</td>\n",
       "      <td>26.19</td>\n",
       "      <td>0.11</td>\n",
       "    </tr>\n",
       "    <tr>\n",
       "      <th rowspan=\"2\" valign=\"top\">$40K - $60K</th>\n",
       "      <th>High School</th>\n",
       "      <th>M</th>\n",
       "      <td>126</td>\n",
       "      <td>11</td>\n",
       "      <td>8.73</td>\n",
       "      <td>0.11</td>\n",
       "    </tr>\n",
       "    <tr>\n",
       "      <th>College</th>\n",
       "      <th>M</th>\n",
       "      <td>53</td>\n",
       "      <td>6</td>\n",
       "      <td>11.32</td>\n",
       "      <td>0.06</td>\n",
       "    </tr>\n",
       "    <tr>\n",
       "      <th rowspan=\"2\" valign=\"top\">Less than $40K</th>\n",
       "      <th>Uneducated</th>\n",
       "      <th>M</th>\n",
       "      <td>33</td>\n",
       "      <td>6</td>\n",
       "      <td>18.18</td>\n",
       "      <td>0.06</td>\n",
       "    </tr>\n",
       "    <tr>\n",
       "      <th>College</th>\n",
       "      <th>M</th>\n",
       "      <td>18</td>\n",
       "      <td>4</td>\n",
       "      <td>22.22</td>\n",
       "      <td>0.04</td>\n",
       "    </tr>\n",
       "  </tbody>\n",
       "</table>\n",
       "</div>"
      ],
      "text/plain": [
       "                                        Total_amount  leaving_amount  \\\n",
       "Income_Category Education_Level Gender                                 \n",
       "Less than $40K  Graduate        F                849             343   \n",
       "                High School     F                508             196   \n",
       "                Uneducated      F                398             160   \n",
       "                College         F                263              96   \n",
       "$80K - $120K    Graduate        M                373              50   \n",
       "$40K - $60K     Graduate        F                257              39   \n",
       "                High School     F                168              32   \n",
       "$80K - $120K    High School     M                234              29   \n",
       "                Uneducated      M                164              28   \n",
       "                College         M                131              27   \n",
       "$40K - $60K     Graduate        M                182              21   \n",
       "                Uneducated      M                 98              17   \n",
       "Less than $40K  Graduate        M                 78              17   \n",
       "$40K - $60K     Uneducated      F                 96              15   \n",
       "                College         F                 86              13   \n",
       "Less than $40K  High School     M                 42              11   \n",
       "$40K - $60K     High School     M                126              11   \n",
       "                College         M                 53               6   \n",
       "Less than $40K  Uneducated      M                 33               6   \n",
       "                College         M                 18               4   \n",
       "\n",
       "                                        leaving_ratio_of_group(%)  \\\n",
       "Income_Category Education_Level Gender                              \n",
       "Less than $40K  Graduate        F                           40.40   \n",
       "                High School     F                           38.58   \n",
       "                Uneducated      F                           40.20   \n",
       "                College         F                           36.50   \n",
       "$80K - $120K    Graduate        M                           13.40   \n",
       "$40K - $60K     Graduate        F                           15.18   \n",
       "                High School     F                           19.05   \n",
       "$80K - $120K    High School     M                           12.39   \n",
       "                Uneducated      M                           17.07   \n",
       "                College         M                           20.61   \n",
       "$40K - $60K     Graduate        M                           11.54   \n",
       "                Uneducated      M                           17.35   \n",
       "Less than $40K  Graduate        M                           21.79   \n",
       "$40K - $60K     Uneducated      F                           15.62   \n",
       "                College         F                           15.12   \n",
       "Less than $40K  High School     M                           26.19   \n",
       "$40K - $60K     High School     M                            8.73   \n",
       "                College         M                           11.32   \n",
       "Less than $40K  Uneducated      M                           18.18   \n",
       "                College         M                           22.22   \n",
       "\n",
       "                                        leaving_ratio_relative_to_ALL(%)  \n",
       "Income_Category Education_Level Gender                                    \n",
       "Less than $40K  Graduate        F                                   3.39  \n",
       "                High School     F                                   1.94  \n",
       "                Uneducated      F                                   1.58  \n",
       "                College         F                                   0.95  \n",
       "$80K - $120K    Graduate        M                                   0.49  \n",
       "$40K - $60K     Graduate        F                                   0.39  \n",
       "                High School     F                                   0.32  \n",
       "$80K - $120K    High School     M                                   0.29  \n",
       "                Uneducated      M                                   0.28  \n",
       "                College         M                                   0.27  \n",
       "$40K - $60K     Graduate        M                                   0.21  \n",
       "                Uneducated      M                                   0.17  \n",
       "Less than $40K  Graduate        M                                   0.17  \n",
       "$40K - $60K     Uneducated      F                                   0.15  \n",
       "                College         F                                   0.13  \n",
       "Less than $40K  High School     M                                   0.11  \n",
       "$40K - $60K     High School     M                                   0.11  \n",
       "                College         M                                   0.06  \n",
       "Less than $40K  Uneducated      M                                   0.06  \n",
       "                College         M                                   0.04  "
      ]
     },
     "execution_count": 16,
     "metadata": {},
     "output_type": "execute_result"
    }
   ],
   "source": [
    "grouped=filtered2.groupby(by=['Income_Category','Education_Level','Gender',]).agg(Total_amount=('CLIENTNUM','count'),leaving_amount=('haveleft' ,'sum'))\n",
    "grouped['leaving_ratio_of_group(%)']=round((grouped['leaving_amount']/grouped['Total_amount'])*100,2)\n",
    "grouped['leaving_ratio_relative_to_ALL(%)']=round((grouped['leaving_amount']/data['CLIENTNUM'].count())*100,2)\n",
    "grouped.sort_values(by='leaving_ratio_relative_to_ALL(%)',ascending=False)"
   ]
  },
  {
   "cell_type": "markdown",
   "id": "bf8346d9-80da-4f2b-a1c4-67758079485c",
   "metadata": {},
   "source": [
    "## Summary:\n",
    "My insights about the leaving customers:  \n",
    "1. The most general insight is: The customers that have the card category of Blue have the highest leaving ratio related to the other cards and to all (22.4% out of 23.4% leaving ratio in general).       \n",
    "Considering that Blue cards customers are 93.18% of all. we have to be more specific about them.     \n",
    "2. Most of the Blue cards customers that are Single or Married have a high ratio of general leaving (18.96% out of 23.4 general leaving ratio).    \n",
    "3. Most of the leaving customers are Females with leaving the ratio of 31.41% (Males 15.36%).      \n",
    "4. Most of the leaving customers related to Income category of Less than 40K (13.18% out of 23.4% leaving ratio in general).    \n",
    "In case we want even more specific detail about leaving costumers    \n",
    "5. we can see from the grouped data frame above the top leaving groups (All the Above are Blue card and Single or Married customers).     "
   ]
  }
 ],
 "metadata": {
  "kernelspec": {
   "display_name": "Python 3",
   "language": "python",
   "name": "python3"
  },
  "language_info": {
   "codemirror_mode": {
    "name": "ipython",
    "version": 3
   },
   "file_extension": ".py",
   "mimetype": "text/x-python",
   "name": "python",
   "nbconvert_exporter": "python",
   "pygments_lexer": "ipython3",
   "version": "3.8.8"
  }
 },
 "nbformat": 4,
 "nbformat_minor": 5
}
